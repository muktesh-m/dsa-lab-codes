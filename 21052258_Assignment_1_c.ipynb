{
  "cells": [
    {
      "cell_type": "markdown",
      "metadata": {
        "id": "view-in-github",
        "colab_type": "text"
      },
      "source": [
        "<a href=\"https://colab.research.google.com/github/muktesh-m/dsa-lab-codes/blob/main/21052258_Assignment_1_c.ipynb\" target=\"_parent\"><img src=\"https://colab.research.google.com/assets/colab-badge.svg\" alt=\"Open In Colab\"/></a>"
      ]
    },
    {
      "cell_type": "markdown",
      "metadata": {
        "id": "tq6yF8UODN6G"
      },
      "source": [
        "1.Write a C program to find out maximum and minimum from an integer array"
      ]
    },
    {
      "cell_type": "code",
      "execution_count": null,
      "metadata": {
        "colab": {
          "base_uri": "https://localhost:8080/"
        },
        "id": "FBkT7keiqxH9",
        "outputId": "bbf4f640-dfeb-4ae6-be36-93100710a324"
      },
      "outputs": [
        {
          "name": "stdout",
          "output_type": "stream",
          "text": [
            "Writing maxmin1.c\n"
          ]
        }
      ],
      "source": [
        "%%writefile maxmin1.c\n",
        "#include <stdio.h>\n",
        "\n",
        "int main()\n",
        "{\n",
        "    int a[1000],i,n,min,max;\n",
        "   \n",
        "    printf(\"Enter size of the array : \");\n",
        "    scanf(\"%d\",&n);\n",
        " \n",
        "    printf(\"Enter elements in array : \");\n",
        "    for(i=0; i<n; i++)\n",
        "    {\n",
        "        scanf(\"%d\",&a[i]);\n",
        "    }\n",
        " \n",
        "    min=max=a[0];\n",
        "    for(i=1; i<n; i++)\n",
        "    {\n",
        "         if(min>a[i])\n",
        "\t\t  min=a[i];   \n",
        "\t\t   if(max<a[i])\n",
        "\t\t    max=a[i];       \n",
        "    }\n",
        "     printf(\"minimum of array is : %d\",min);\n",
        "          printf(\"\\nmaximum of array is : %d\",max);\n",
        "\n",
        "\n",
        "    return 0;\n",
        "}"
      ]
    },
    {
      "cell_type": "code",
      "execution_count": null,
      "metadata": {
        "id": "eFLS2eb6uP3I"
      },
      "outputs": [],
      "source": [
        "%%script bash\n",
        "gcc maxmin1.c"
      ]
    },
    {
      "cell_type": "code",
      "execution_count": null,
      "metadata": {
        "colab": {
          "base_uri": "https://localhost:8080/"
        },
        "id": "yHTopSE3uZH-",
        "outputId": "70f1dfaf-da17-40da-8753-07b5fda2344a"
      },
      "outputs": [
        {
          "name": "stdout",
          "output_type": "stream",
          "text": [
            "Enter size of the array : 5\n",
            "Enter elements in array : 5\n",
            "6\n",
            "4\n",
            "2\n",
            "1\n",
            "minimum of array is : 1\n",
            "maximum of array is : 6"
          ]
        }
      ],
      "source": [
        "!./a.out"
      ]
    },
    {
      "cell_type": "markdown",
      "metadata": {
        "id": "QcS0sQf8u__r"
      },
      "source": [
        "2. Write a C program to find the second maximum and second minimum elements\n",
        "from an integer array (without sorting). "
      ]
    },
    {
      "cell_type": "code",
      "execution_count": null,
      "metadata": {
        "id": "T6Q4dpuLvEmt",
        "colab": {
          "base_uri": "https://localhost:8080/"
        },
        "outputId": "2cf7cb7e-169d-4724-ef75-a3911c7db939"
      },
      "outputs": [
        {
          "output_type": "stream",
          "name": "stdout",
          "text": [
            "Writing 2.c\n"
          ]
        }
      ],
      "source": [
        "%%writefile 2.c\n",
        "#include<stdio.h>\n",
        "int sec_max(int a[], int n)\n",
        "{\n",
        "  int max, sec_max;\n",
        "  max = a[0];\n",
        "  sec_max = a[1];\n",
        "  \n",
        "  for(int i=0; i<n; i++)\n",
        "  {\n",
        "    if(a[i]>max)\n",
        "    {\n",
        "      sec_max = max;\n",
        "      max = a[i];\n",
        "    }      \n",
        "  }\n",
        "  return sec_max;\n",
        "}\n",
        "\n",
        "int sec_min(int a[], int n)\n",
        "{\n",
        "    int min, sec_min;\n",
        "    min = a[0];\n",
        "    sec_min = a[1];\n",
        "    \n",
        "    for(int i=0; i<n; i++)\n",
        "    {\n",
        "        if(a[i]<min)\n",
        "        {\n",
        "            sec_min = min;\n",
        "            min = a[i];\n",
        "        }\n",
        "    }\n",
        "    return sec_min;\n",
        "}\n",
        "int main()\n",
        "{\n",
        "    int n;\n",
        "    printf(\"Enter the no. of elements: \");\n",
        "    scanf(\"%d\", &n);\n",
        "    \n",
        "    int a[50];\n",
        "    printf(\"Enter the elements: \");\n",
        "    for(int i=0; i<n; i++)\n",
        "    {\n",
        "        scanf(\"%d\", &a[i]);\n",
        "    }\n",
        "    \n",
        "    printf(\"\\nThe second max element: %d\", sec_max(a, n));\n",
        "    printf(\"\\nThe second min element: %d\", sec_min(a, n));\n",
        "    \n",
        "}\n",
        "\n"
      ]
    },
    {
      "cell_type": "code",
      "execution_count": null,
      "metadata": {
        "id": "yu3RQoR9wlCE"
      },
      "outputs": [],
      "source": [
        "%%script bash\n",
        "gcc 2.c -std=c99 -o maxmin2"
      ]
    },
    {
      "cell_type": "code",
      "execution_count": null,
      "metadata": {
        "id": "QWxIioDXwlOz",
        "colab": {
          "base_uri": "https://localhost:8080/"
        },
        "outputId": "913840c5-3d35-44a1-beb1-c8e967307119"
      },
      "outputs": [
        {
          "output_type": "stream",
          "name": "stdout",
          "text": [
            "Enter the no. of elements: 5\n",
            "Enter the elements: 2\n",
            "5\n",
            "8\n",
            "0\n",
            "6\n",
            "\n",
            "The second max element: 5\n",
            "The second min element: 2"
          ]
        }
      ],
      "source": [
        "!./maxmin2"
      ]
    },
    {
      "cell_type": "markdown",
      "metadata": {
        "id": "OTGxc49qwmjr"
      },
      "source": [
        " 3. Write a C program to insert an element into an array. "
      ]
    },
    {
      "cell_type": "code",
      "execution_count": null,
      "metadata": {
        "colab": {
          "base_uri": "https://localhost:8080/"
        },
        "id": "g2VoJbtrws_0",
        "outputId": "d24399dd-3c35-4829-b94a-afc90fa88721"
      },
      "outputs": [
        {
          "name": "stdout",
          "output_type": "stream",
          "text": [
            "Overwriting 3.c\n"
          ]
        }
      ],
      "source": [
        "%%writefile 3.c\n",
        "#include <stdio.h>\n",
        "\n",
        "int main()\n",
        "{\n",
        "\n",
        "    int i, x, n;\n",
        "    printf(\"Enter the array size:\\n \");\n",
        "    scanf(\"%d\", &n);\n",
        "    int arr[n];\n",
        "    printf(\"Enter the array elements\\n\");\n",
        "    for (i = 0; i < n; i++)\n",
        "        scanf(\"%d\", &arr[i]);\n",
        "    printf(\"\\nThe original array is:\");\n",
        "    for (i = 0; i < n; i++)\n",
        "        printf(\"%d \", arr[i]);\n",
        "    printf(\"\\n\");\n",
        "\n",
        "    printf(\"element to be inserted\\n\");\n",
        "    scanf(\"%d\", &x);\n",
        "    n++;\n",
        "    arr[n-1] = x;\n",
        "    printf(\"The updated array is:\");\n",
        "    for (i = 0; i < n; i++)\n",
        "        printf(\"%d \", arr[i]);\n",
        "    printf(\"\\n\");\n",
        "\n",
        "    return 0;\n",
        "}"
      ]
    },
    {
      "cell_type": "code",
      "execution_count": null,
      "metadata": {
        "id": "kpehI9amzjGw"
      },
      "outputs": [],
      "source": [
        "%%script bash\n",
        "gcc 3.c -std=c99 -o inserte"
      ]
    },
    {
      "cell_type": "code",
      "execution_count": null,
      "metadata": {
        "colab": {
          "base_uri": "https://localhost:8080/"
        },
        "id": "KXzBqIF4z1ZS",
        "outputId": "0202fbd6-ecab-4c94-cc01-2c9e7f4ae6ed"
      },
      "outputs": [
        {
          "name": "stdout",
          "output_type": "stream",
          "text": [
            "Enter the array size:\n",
            " 2\n",
            "Enter the array elements\n",
            "5\n",
            "8\n",
            "\n",
            "The original array is:5 8 \n",
            "element to be inserted\n",
            "6\n",
            "The updated array is:5 8 6 \n"
          ]
        }
      ],
      "source": [
        "!./inserte"
      ]
    },
    {
      "cell_type": "markdown",
      "metadata": {
        "id": "rrf2fGO105cz"
      },
      "source": [
        " 4. Write a C program to insert an element into the first position of an array. "
      ]
    },
    {
      "cell_type": "code",
      "execution_count": null,
      "metadata": {
        "colab": {
          "base_uri": "https://localhost:8080/"
        },
        "id": "wBoKLQRv08-a",
        "outputId": "9b347d87-d444-4cb3-f8d4-3de81030f049"
      },
      "outputs": [
        {
          "output_type": "stream",
          "name": "stdout",
          "text": [
            "Writing 4.c\n"
          ]
        }
      ],
      "source": [
        "%%writefile 4.c\n",
        "#include <stdio.h>\n",
        "\n",
        "int main()\n",
        "{\n",
        "\n",
        "    int i, x, n;\n",
        "    printf(\"Enter the array size:\\n \");\n",
        "    scanf(\"%d\", &n);\n",
        "    int arr[n];\n",
        "    printf(\"Enter the array elements\\n\");\n",
        "    for (i = 0; i < n; i++)\n",
        "        scanf(\"%d\", &arr[i]);\n",
        "    printf(\"\\nThe original array is:\");\n",
        "    for (i = 0; i < n; i++)\n",
        "        printf(\"%d \", arr[i]);\n",
        "    printf(\"\\n\");\n",
        "\n",
        "    printf(\"element to be inserted\\n\");\n",
        "    scanf(\"%d\", &x);\n",
        "\n",
        "    n++;\n",
        "    for (i = n-1 ; i >= 1; i--)\n",
        "        arr[i] = arr[i - 1];\n",
        "\n",
        "    arr[0] = x;\n",
        "    printf(\"The updated array is:\");\n",
        "    for (i = 0; i < n; i++)\n",
        "        printf(\"%d \", arr[i]);\n",
        "    printf(\"\\n\");\n",
        "\n",
        "    return 0;\n",
        "}"
      ]
    },
    {
      "cell_type": "code",
      "execution_count": null,
      "metadata": {
        "id": "dmwMn83Q1MCd"
      },
      "outputs": [],
      "source": [
        "%%script bash\n",
        "gcc 4.c -std=c99 -o insert1"
      ]
    },
    {
      "cell_type": "code",
      "execution_count": null,
      "metadata": {
        "colab": {
          "base_uri": "https://localhost:8080/"
        },
        "id": "y_kJa9Wx1Sg9",
        "outputId": "9c3457d0-be24-4cb6-af6e-95efcccfcefd"
      },
      "outputs": [
        {
          "output_type": "stream",
          "name": "stdout",
          "text": [
            "Enter the array size:\n",
            " 2\n",
            "Enter the array elements\n",
            "5 8\n",
            "\n",
            "The original array is:5 8 \n",
            "element to be inserted\n",
            "4\n",
            "The updated array is:4 5 8 \n"
          ]
        }
      ],
      "source": [
        "!./insert1"
      ]
    },
    {
      "cell_type": "markdown",
      "metadata": {
        "id": "1eZKjD_B1uYH"
      },
      "source": [
        "5. Write a C program to insert an element into any position of an array. "
      ]
    },
    {
      "cell_type": "code",
      "execution_count": null,
      "metadata": {
        "colab": {
          "base_uri": "https://localhost:8080/"
        },
        "id": "YAxSRMxP1vh6",
        "outputId": "6fe3e2ec-de30-4000-9b4b-e3ffcc22ad10"
      },
      "outputs": [
        {
          "output_type": "stream",
          "name": "stdout",
          "text": [
            "Writing 5.c\n"
          ]
        }
      ],
      "source": [
        "%%writefile 5.c\n",
        "#include <stdio.h>\n",
        "\n",
        "int main()\n",
        "{\n",
        "\n",
        "    int i, x, pos, n;\n",
        "    printf(\"Enter the array size:\\n \");\n",
        "    scanf(\"%d\", &n);\n",
        "    int arr[n];\n",
        "    printf(\"Enter the array elements\\n\");\n",
        "    for (i = 0; i < n; i++)\n",
        "        scanf(\"%d\", &arr[i]);\n",
        "    printf(\"\\nThe original array is:\");\n",
        "    for (i = 0; i < n; i++)\n",
        "        printf(\"%d \", arr[i]);\n",
        "    printf(\"\\n\");\n",
        "\n",
        "    printf(\"element to be inserted\\n\");\n",
        "    scanf(\"%d\", &x);\n",
        "\n",
        "    printf(\"position at which element is to be inserted\\n\");\n",
        "    scanf(\"%d\", &pos);\n",
        "    n++;\n",
        "    for (i = n-1 ; i >= pos; i--)\n",
        "        arr[i] = arr[i - 1];\n",
        "\n",
        "    arr[pos - 1] = x;\n",
        "    printf(\"The updated array is:\");\n",
        "    for (i = 0; i < n; i++)\n",
        "        printf(\"%d \", arr[i]);\n",
        "    printf(\"\\n\");\n",
        "\n",
        "    return 0;\n",
        "}"
      ]
    },
    {
      "cell_type": "code",
      "execution_count": null,
      "metadata": {
        "id": "DZjQAXOk3hVJ"
      },
      "outputs": [],
      "source": [
        "%%script bash\n",
        "gcc 5.c -std=c99 -o insertany"
      ]
    },
    {
      "cell_type": "code",
      "execution_count": null,
      "metadata": {
        "colab": {
          "base_uri": "https://localhost:8080/"
        },
        "id": "5FUgV0za3ni5",
        "outputId": "6b966047-7b52-4925-da98-c226c2b28efe"
      },
      "outputs": [
        {
          "output_type": "stream",
          "name": "stdout",
          "text": [
            "Enter the array size:\n",
            " 4\n",
            "Enter the array elements\n",
            "2\n",
            "4 6 8\n",
            "\n",
            "The original array is:2 4 6 8 \n",
            "element to be inserted\n",
            "5\n",
            "position at which element is to be inserted\n",
            "3\n",
            "The updated array is:2 4 5 6 8 \n"
          ]
        }
      ],
      "source": [
        "!./insertany"
      ]
    },
    {
      "cell_type": "markdown",
      "metadata": {
        "id": "zM0i8tEB45xd"
      },
      "source": [
        "6. Write a C program to delete an element from an array."
      ]
    },
    {
      "cell_type": "code",
      "execution_count": null,
      "metadata": {
        "colab": {
          "base_uri": "https://localhost:8080/"
        },
        "id": "wm0LGx7M5OWg",
        "outputId": "6d3b1b80-1ef1-4908-bb4f-2de68fa15d49"
      },
      "outputs": [
        {
          "output_type": "stream",
          "name": "stdout",
          "text": [
            "Writing 6.c\n"
          ]
        }
      ],
      "source": [
        "%%writefile 6.c\n",
        "#include <stdio.h>\n",
        "\n",
        "int main()\n",
        "{\n",
        "    int n, x, pos;\n",
        "    printf(\"Enter the number of elements you want in your array: \");\n",
        "    scanf(\"%d\", &n);\n",
        "    int arr[n];\n",
        "    printf(\"Enter the array elements\\n\");\n",
        "    for (int i = 0; i < n; i++)\n",
        "    {\n",
        "        scanf(\"%d\", &arr[i]);\n",
        "    }\n",
        "    printf(\"Enter the element you want to delete:\");\n",
        "    scanf(\"%d\", &x);\n",
        "    for (int i = 0; i < n; i++)\n",
        "    {\n",
        "        if (arr[i] == x)\n",
        "        {\n",
        "          pos = i;\n",
        "        }\n",
        "    }\n",
        "    printf(\"Element is at position: %d\\n\", pos);\n",
        "    for (int i = pos; i < n; i++)\n",
        "    {\n",
        "        arr[i] = arr[i + 1];\n",
        "    }\n",
        "    printf(\"The edited array\\n\");\n",
        "    for (int i = 0; i < n - 1; i++)\n",
        "    {\n",
        "        printf(\" %d \", arr[i]);\n",
        "    }\n",
        "\n",
        "    return 0;\n",
        "}"
      ]
    },
    {
      "cell_type": "code",
      "execution_count": null,
      "metadata": {
        "id": "UyC6Psr68u4J"
      },
      "outputs": [],
      "source": [
        "%%script bash\n",
        "gcc 6.c -std=c99 -o delete"
      ]
    },
    {
      "cell_type": "code",
      "execution_count": null,
      "metadata": {
        "colab": {
          "base_uri": "https://localhost:8080/"
        },
        "id": "Dpq6a0vZ83X5",
        "outputId": "580e857f-e922-47a7-fd28-73f048537991"
      },
      "outputs": [
        {
          "output_type": "stream",
          "name": "stdout",
          "text": [
            "Enter the number of elements you want in your array: 5\n",
            "Enter the array elements\n",
            "1\n",
            "2\n",
            "3\n",
            "4\n",
            "5\n",
            "Enter the element you want to delete:3\n",
            "Element is at position: 3\n",
            "The edited array\n",
            " 1  2  4  5 "
          ]
        }
      ],
      "source": [
        "!./delete"
      ]
    },
    {
      "cell_type": "markdown",
      "metadata": {
        "id": "ME7_4Aoo9gLv"
      },
      "source": [
        "7.Write a C program to delete an element from first position of an array"
      ]
    },
    {
      "cell_type": "code",
      "source": [
        "%%writefile 7.c\n",
        "#include <stdio.h>\n",
        "\n",
        "int main()\n",
        "{\n",
        "    int n, x, pos=1;\n",
        "    printf(\"Enter the number of elements you want in your array: \");\n",
        "    scanf(\"%d\", &n);\n",
        "    int arr[n];\n",
        "    printf(\"Enter the array elements\\n\");\n",
        "    for (int i = 0; i < n; i++)\n",
        "    {\n",
        "        scanf(\"%d\", &arr[i]);\n",
        "    }\n",
        "    for (int i = pos - 1; i < n; i++)\n",
        "    {\n",
        "        arr[i] = arr[i + 1];\n",
        "    }\n",
        "    printf(\"The edited array\\n\");\n",
        "    for (int i = 0; i < n - 1; i++)\n",
        "    {\n",
        "        printf(\" %d \", arr[i]);\n",
        "    }\n",
        "\n",
        "    return 0;\n",
        "}\n"
      ],
      "metadata": {
        "colab": {
          "base_uri": "https://localhost:8080/"
        },
        "id": "XrY0RfQv6JxV",
        "outputId": "54b9607d-6fca-4759-94e2-5aa3d016a28c"
      },
      "execution_count": null,
      "outputs": [
        {
          "output_type": "stream",
          "name": "stdout",
          "text": [
            "Writing 7.c\n"
          ]
        }
      ]
    },
    {
      "cell_type": "code",
      "source": [
        "%%script bash\n",
        "gcc 7.c -std=c99 -o delete1"
      ],
      "metadata": {
        "id": "kgIGtTKm6YCa"
      },
      "execution_count": null,
      "outputs": []
    },
    {
      "cell_type": "code",
      "source": [
        "!./delete1\n"
      ],
      "metadata": {
        "colab": {
          "base_uri": "https://localhost:8080/"
        },
        "id": "jKdZ2AkP6dWt",
        "outputId": "fc3b63a9-889d-45eb-e41d-7701d438cc6a"
      },
      "execution_count": null,
      "outputs": [
        {
          "output_type": "stream",
          "name": "stdout",
          "text": [
            "Enter the number of elements you want in your array: 5\n",
            "Enter the array elements\n",
            "1\n",
            "2\n",
            "3\n",
            "4\n",
            "5\n",
            "The edited array\n",
            " 2  3  4  5 "
          ]
        }
      ]
    },
    {
      "cell_type": "markdown",
      "source": [
        "8. Write a C program to delete an element from any position of an array"
      ],
      "metadata": {
        "id": "b6ScMnf361Uc"
      }
    },
    {
      "cell_type": "code",
      "source": [
        "%%writefile 8.c\n",
        "#include <stdio.h>\n",
        "\n",
        "int main()\n",
        "{\n",
        "    int n, x, pos;\n",
        "    printf(\"Enter the number of elements you want in your array: \");\n",
        "    scanf(\"%d\", &n);\n",
        "    int arr[n];\n",
        "    printf(\"Enter the array elements\\n\");\n",
        "    for (int i = 0; i < n; i++)\n",
        "    {\n",
        "        scanf(\"%d\", &arr[i]);\n",
        "    }\n",
        "    printf(\"Enter the position of element you want to delete:\");\n",
        "    scanf(\"%d\", &pos);\n",
        "   if(pos<=n){\n",
        "    for (int i = pos - 1; i < n; i++)\n",
        "    {\n",
        "        arr[i] = arr[i + 1];\n",
        "    }\n",
        "    printf(\"The edited array\\n\");\n",
        "    for (int i = 0; i < n - 1; i++)\n",
        "    {\n",
        "        printf(\" %d \", arr[i]);\n",
        "    }\n",
        "   }\n",
        "   else{\n",
        "     printf(\"INVALID INPUT OF POSITION\");\n",
        "   }\n",
        "\n",
        "    return 0;\n",
        "}"
      ],
      "metadata": {
        "colab": {
          "base_uri": "https://localhost:8080/"
        },
        "id": "coEOYyup7AI9",
        "outputId": "987c561b-eed4-4cd6-a235-e05cccf462dd"
      },
      "execution_count": null,
      "outputs": [
        {
          "output_type": "stream",
          "name": "stdout",
          "text": [
            "Writing 8.c\n"
          ]
        }
      ]
    },
    {
      "cell_type": "code",
      "source": [
        "%%script bash\n",
        "gcc 8.c -std=c99 -o deleteany"
      ],
      "metadata": {
        "id": "l3shYtue7eqd"
      },
      "execution_count": null,
      "outputs": []
    },
    {
      "cell_type": "code",
      "source": [
        "!./deleteany"
      ],
      "metadata": {
        "colab": {
          "base_uri": "https://localhost:8080/"
        },
        "id": "MLphfH6g7oOj",
        "outputId": "81aac2e5-3c7f-44c2-fcf8-b472714c7320"
      },
      "execution_count": null,
      "outputs": [
        {
          "output_type": "stream",
          "name": "stdout",
          "text": [
            "Enter the number of elements you want in your array: \n",
            "4\n",
            "Enter the array elements\n",
            "2\n",
            "4 6 8\n",
            "Enter the position of element you want to delete:3\n",
            "The edited array\n",
            " 2  4  8 "
          ]
        }
      ]
    },
    {
      "cell_type": "markdown",
      "source": [
        "9. Write a C prog to merge 2 arrays"
      ],
      "metadata": {
        "id": "__yZjJ7E-ukm"
      }
    },
    {
      "cell_type": "code",
      "source": [
        "%%writefile 9.c\n",
        "#include <stdio.h>\n",
        "\n",
        "int main()\n",
        "{\n",
        "    int n1, n2;\n",
        "    printf(\"Enter the limit of 2 arrays\\n\");\n",
        "    scanf(\"%d %d\", &n1, &n2);\n",
        "    int a[n1], b[n2], c[n1 + n2];\n",
        "    printf(\"Enter elements into array A\\n\");\n",
        "    for (int i = 0; i < n1; i++)\n",
        "    {\n",
        "        scanf(\"%d\", &a[i]);\n",
        "    }\n",
        "    printf(\"Enter elements into array B\\n\");\n",
        "    for (int i = 0; i < n2; i++)\n",
        "    {\n",
        "        scanf(\"%d\", &b[i]);\n",
        "    }\n",
        "    for (int i = 0; i < n1; i++)\n",
        "    {\n",
        "        c[i] = a[i];\n",
        "    }\n",
        "    for (int i = 0; i < n2; i++)\n",
        "    {\n",
        "        c[n1 + i] = b[i];\n",
        "    }\n",
        "    printf(\"The merged array is:\\n\");\n",
        "    for (int i = 0; i < n1 + n2; i++)\n",
        "    {\n",
        "        printf(\" %d \", c[i]);\n",
        "    }\n",
        "\n",
        "    return 0;\n",
        "}"
      ],
      "metadata": {
        "colab": {
          "base_uri": "https://localhost:8080/"
        },
        "id": "tbBN0cMd-4Di",
        "outputId": "6f320c4a-434f-428b-ac75-ea1ff0d5b848"
      },
      "execution_count": null,
      "outputs": [
        {
          "output_type": "stream",
          "name": "stdout",
          "text": [
            "Writing 9.c\n"
          ]
        }
      ]
    },
    {
      "cell_type": "code",
      "source": [
        "%%script bash\n",
        "gcc 9.c -std=c99 -o merge"
      ],
      "metadata": {
        "id": "10xBNsJU-7fz"
      },
      "execution_count": null,
      "outputs": []
    },
    {
      "cell_type": "code",
      "source": [
        "!./merge"
      ],
      "metadata": {
        "colab": {
          "base_uri": "https://localhost:8080/"
        },
        "id": "SVwH9H7P_Yl8",
        "outputId": "d3622fe9-24ae-4557-c9a1-3aba619a635b"
      },
      "execution_count": null,
      "outputs": [
        {
          "output_type": "stream",
          "name": "stdout",
          "text": [
            "Enter the limit of 2 arrays\n",
            "3 4\n",
            "Enter elements into array A\n",
            "1\n",
            "3\n",
            "5\n",
            "Enter elements into array B\n",
            "\n",
            "2\n",
            "4\n",
            "6\n",
            "8\n",
            "The merged array is:\n",
            " 1  3  5  2  4  6  8 "
          ]
        }
      ]
    },
    {
      "cell_type": "markdown",
      "source": [
        "10.Write a C program which will take a character array and offset (integer) value to transform."
      ],
      "metadata": {
        "id": "VvxLDkGNKZ-D"
      }
    },
    {
      "cell_type": "code",
      "source": [
        "%%writefile 10.c\n",
        "#include<stdio.h>\n",
        "int main(){\n",
        "    int n;\n",
        "    printf(\"Enter the no of characters: \");\n",
        "    scanf(\"%d\",&n);\n",
        "    int o;\n",
        "    printf(\"Enter offset: \");\n",
        "    scanf(\"%d\",&o);\n",
        "    char ch[n];\n",
        "    printf(\"Enter the characters: \");\n",
        "    for(int i=0; i<n; i++){\n",
        "        scanf(\" %c\", &ch[i]);\n",
        "    }\n",
        "\n",
        "   for(int i=0; i<n; i++){\n",
        "    int c = ch[i]+o;\n",
        "    if((c>=65 && c<=90)||(c>=97 && c<=122)){\n",
        "        printf(\"%C \", c);\n",
        "    }\n",
        "    else if(c<65|| c<97){\n",
        "        int z=26+c;\n",
        "        printf(\"%c \", z);\n",
        "    }\n",
        "   }\n",
        "    return 0;\n",
        "}"
      ],
      "metadata": {
        "colab": {
          "base_uri": "https://localhost:8080/"
        },
        "id": "SzmkldOyKeV5",
        "outputId": "39be3fc0-9756-4711-f572-bd2d619af6f0"
      },
      "execution_count": null,
      "outputs": [
        {
          "output_type": "stream",
          "name": "stdout",
          "text": [
            "Writing 10.c\n"
          ]
        }
      ]
    },
    {
      "cell_type": "code",
      "source": [
        "%%script bash\n",
        "gcc 10.c -std=c99 -o choffset"
      ],
      "metadata": {
        "id": "Eu6U2iuwKlHh"
      },
      "execution_count": null,
      "outputs": []
    },
    {
      "cell_type": "code",
      "source": [
        "!./choffset"
      ],
      "metadata": {
        "colab": {
          "base_uri": "https://localhost:8080/"
        },
        "id": "Y62smqMBKyz0",
        "outputId": "55c6ef89-9128-406c-a7ce-11aa462365f2"
      },
      "execution_count": null,
      "outputs": [
        {
          "output_type": "stream",
          "name": "stdout",
          "text": [
            "Enter the no of characters: 3\n",
            "Enter offset: -2\n",
            "Enter the characters: BCD\n",
            "Z A B "
          ]
        }
      ]
    }
  ],
  "metadata": {
    "colab": {
      "collapsed_sections": [],
      "name": "21052258_Assignment_1.c",
      "provenance": [],
      "authorship_tag": "ABX9TyOJcHZJdXIvhZUbPW6i9Mfw",
      "include_colab_link": true
    },
    "kernelspec": {
      "display_name": "Python 3",
      "name": "python3"
    },
    "language_info": {
      "name": "python"
    }
  },
  "nbformat": 4,
  "nbformat_minor": 0
}